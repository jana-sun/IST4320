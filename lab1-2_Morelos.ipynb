{
 "cells": [
  {
   "cell_type": "code",
   "execution_count": 9,
   "id": "f74416a5-9ef2-4d57-877b-57d0c2049261",
   "metadata": {},
   "outputs": [
    {
     "name": "stdout",
     "output_type": "stream",
     "text": [
      " the circumference of a circle is: 49.6372\n"
     ]
    }
   ],
   "source": [
    "# Question 1 \n",
    "# What is the circumference of a circle when the radius is 7.9? Use math module function.\n",
    "import math\n",
    "# the forumla for circumference of a circle is 2*pi*r\n",
    "r = 7.9\n",
    "circumference = (2 * math.pi * r)\n",
    "print( \" The circumference of a circle is:\", round(circumference, 4))  "
   ]
  },
  {
   "cell_type": "code",
   "execution_count": 15,
   "id": "73fd79b4-6584-488e-a10e-dcc3ae571a55",
   "metadata": {},
   "outputs": [
    {
     "name": "stdout",
     "output_type": "stream",
     "text": [
      "Invalid input! Please enter a valid integer.\n"
     ]
    }
   ],
   "source": [
    "# Question 2  fix this error code ( there are two changes ) \n",
    "try:\n",
    "    # Input a number\n",
    "    number = int(input(\"Enter a number: \"))\n",
    "\n",
    "    # Check if the number is positive, negative, or zero\n",
    "    if number > 0:\n",
    "        print(\"The number is positive.\")\n",
    "    elif number < 0:\n",
    "        print(\"The number is negative.\")\n",
    "    else:\n",
    "        print(\"The number is zero.\")\n",
    "except ValueError:\n",
    "    print(\"Invalid input! Please enter a valid integer.\")"
   ]
  },
  {
   "cell_type": "code",
   "execution_count": 23,
   "id": "4889630c-5b76-4346-bc1d-9e7ffc3ffb6b",
   "metadata": {},
   "outputs": [
    {
     "name": "stdout",
     "output_type": "stream",
     "text": [
      "Alright, thats fine and dandy\n"
     ]
    }
   ],
   "source": [
    "# Question 3\n",
    "# Fix this line of code, there are three changes. \n",
    "while True: \n",
    "    line = input('How is your Spring 2024 Semester going, type : alright, good or stressful?')\n",
    "    if line == 'stressful':\n",
    "        print('sorry to hear but you can do it ')\n",
    "        break\n",
    "    elif line == 'good':\n",
    "        print('thats good!')\n",
    "        break\n",
    "    elif line == 'alright':\n",
    "        print('Alright, thats fine and dandy')\n",
    "        break\n",
    "    else:\n",
    "        print(line, \"has been saved to the database.\") "
   ]
  },
  {
   "cell_type": "code",
   "execution_count": 31,
   "id": "e2f7190a-fdb4-4a1c-9d53-ca9ccea92f0f",
   "metadata": {},
   "outputs": [
    {
     "name": "stdout",
     "output_type": "stream",
     "text": [
      "First name :  John\n",
      "First name :  Jane\n",
      "First name :  David\n",
      "First name :  Mary\n",
      "First name :  Chris\n"
     ]
    },
    {
     "data": {
      "text/plain": [
       "['John', 'Jane', 'David', 'Mary', 'Chris']"
      ]
     },
     "execution_count": 31,
     "metadata": {},
     "output_type": "execute_result"
    }
   ],
   "source": [
    "# question 4 \n",
    "# A company has a list of employee names as follows \n",
    "employee_names = [\"John Smith\", \"Jane Doe \", \"David Johnson\", \"Mary Brown\", \"Chris Lee\"]\n",
    "# Write a pythin program that extract and displays the first names of all employees in the format, for example, \"First Name : John\"\n",
    "# and stores them in a new list called first_names. \n",
    "first_names_list = []\n",
    "for name in employee_names:\n",
    "    first_name = name.split()[0]\n",
    "    first_names_list.append(first_name)\n",
    "    print (\"First name : \", first_name)\n",
    "first_names_list\n",
    "\n"
   ]
  },
  {
   "cell_type": "code",
   "execution_count": 36,
   "id": "848a1f47-541d-4a84-a3ae-c7d4d7d401cf",
   "metadata": {},
   "outputs": [
    {
     "data": {
      "text/plain": [
       "(['Spot', 'Charlie', 'Hudson'], 'Rex')"
      ]
     },
     "execution_count": 36,
     "metadata": {},
     "output_type": "execute_result"
    }
   ],
   "source": [
    "# question 5a\n",
    "# Remove the last item from the list of dog names and save it for later to an obejct called myDog. \n",
    "def get_dogs():\n",
    "    return ['Spot', 'Charlie', 'Hudson', 'Max', 'Rex']\n",
    "dogs = get_dogs()\n",
    "myDog = dogs.pop()\n",
    "dogs\n",
    "\n",
    "\n",
    "##############\n",
    "\n",
    "#question 5b\n",
    "# after removing the last item from the list of dog names then delete the name Max from the list. \n",
    "dogs.remove(\"Max\")\n",
    "dogs, myDog"
   ]
  },
  {
   "cell_type": "code",
   "execution_count": 40,
   "id": "edd21242-5c86-4c59-9e78-d4d210926251",
   "metadata": {},
   "outputs": [
    {
     "name": "stdout",
     "output_type": "stream",
     "text": [
      "{'Toyota': 'Camry', 'Ford': 'Ranger', 'Honda': 'Civic', 'Acura': 'Integra'}\n",
      "{'Toyota': 'Camry', 'Ford': 'Ranger', 'Honda': 'Accord', 'Acura': 'Integra'}\n"
     ]
    }
   ],
   "source": [
    "# question 6 \n",
    "# With this dictionary please update this list with a new item called 'Acura':'Integra' \n",
    "Cars = {'Toyota' : 'Camry', 'Ford': 'Ranger', 'Honda':'Civic'}\n",
    "Cars['Acura'] = 'Integra'\n",
    "print(Cars)\n",
    "\n",
    "# question 6b\n",
    "# Please change the item 'Civic' to 'Accord'. Then print the list.\n",
    "Cars['Honda'] = 'Accord'\n",
    "print(Cars)\n",
    "\n"
   ]
  }
 ],
 "metadata": {
  "kernelspec": {
   "display_name": "Python 3 (ipykernel)",
   "language": "python",
   "name": "python3"
  },
  "language_info": {
   "codemirror_mode": {
    "name": "ipython",
    "version": 3
   },
   "file_extension": ".py",
   "mimetype": "text/x-python",
   "name": "python",
   "nbconvert_exporter": "python",
   "pygments_lexer": "ipython3",
   "version": "3.9.6"
  }
 },
 "nbformat": 4,
 "nbformat_minor": 5
}
